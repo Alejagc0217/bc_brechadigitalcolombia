{
  "nbformat": 4,
  "nbformat_minor": 0,
  "metadata": {
    "colab": {
      "private_outputs": true,
      "provenance": [],
      "include_colab_link": true
    },
    "kernelspec": {
      "name": "python3",
      "display_name": "Python 3"
    },
    "language_info": {
      "name": "python"
    }
  },
  "cells": [
    {
      "cell_type": "markdown",
      "metadata": {
        "id": "view-in-github",
        "colab_type": "text"
      },
      "source": [
        "<a href=\"https://colab.research.google.com/github/Alejagc0217/bc_brechadigitalcolombia/blob/main/brechadigitalipynb.ipynb\" target=\"_parent\"><img src=\"https://colab.research.google.com/assets/colab-badge.svg\" alt=\"Open In Colab\"/></a>"
      ]
    },
    {
      "cell_type": "markdown",
      "source": [
        "#Presentación\n"
      ],
      "metadata": {
        "id": "2aiuFRgcuKwu"
      }
    },
    {
      "cell_type": "code",
      "source": [],
      "metadata": {
        "id": "U7OMXUkFwAcU"
      },
      "execution_count": null,
      "outputs": []
    },
    {
      "cell_type": "markdown",
      "source": [
        "#Justificación\n"
      ],
      "metadata": {
        "id": "taMMFhmxuQnu"
      }
    },
    {
      "cell_type": "code",
      "source": [],
      "metadata": {
        "id": "enIWhIqrv2ok"
      },
      "execution_count": null,
      "outputs": []
    },
    {
      "cell_type": "markdown",
      "source": [
        "#ingestión de Datos"
      ],
      "metadata": {
        "id": "yGPpitScuTg2"
      }
    },
    {
      "cell_type": "code",
      "source": [],
      "metadata": {
        "id": "ErOy6uuav8wm"
      },
      "execution_count": null,
      "outputs": []
    },
    {
      "cell_type": "markdown",
      "source": [
        "#Preparación y Limpieza"
      ],
      "metadata": {
        "id": "bh93NbG-uZRe"
      }
    },
    {
      "cell_type": "code",
      "source": [],
      "metadata": {
        "id": "ohWJFZQjv9TF"
      },
      "execution_count": null,
      "outputs": []
    },
    {
      "cell_type": "markdown",
      "source": [
        "#Analítica Descriptiva"
      ],
      "metadata": {
        "id": "GZMSg4dzueY-"
      }
    },
    {
      "cell_type": "code",
      "source": [
        "1"
      ],
      "metadata": {
        "id": "rDU_k-4Ovu9P"
      },
      "execution_count": null,
      "outputs": []
    },
    {
      "cell_type": "markdown",
      "source": [
        "#Análisis de Negocio\n"
      ],
      "metadata": {
        "id": "Jp1uffYaujtW"
      }
    },
    {
      "cell_type": "markdown",
      "source": [
        "¿Qué cantidad de la población Colombiana tienen acceso a internet?\n",
        "¿Que departamentos de Colombia son los que tienen menos acceso?"
      ],
      "metadata": {
        "id": "qjkmiT749VPo"
      }
    },
    {
      "cell_type": "code",
      "source": [
        "¿Qué cantidad de la población Colombiana tienen acceso a internet?\n",
        "¿Que departamentos de Colombia son los que tienen menos acceso?\n"
      ],
      "metadata": {
        "id": "OBChfVD9v-DM"
      },
      "execution_count": null,
      "outputs": []
    }
  ]
}