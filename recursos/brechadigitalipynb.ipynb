{
  "nbformat": 4,
  "nbformat_minor": 0,
  "metadata": {
    "colab": {
      "private_outputs": true,
      "provenance": [],
      "authorship_tag": "ABX9TyNkhSD1HhXKM8YAFXSgk5WP",
      "include_colab_link": true
    },
    "kernelspec": {
      "name": "python3",
      "display_name": "Python 3"
    },
    "language_info": {
      "name": "python"
    }
  },
  "cells": [
    {
      "cell_type": "markdown",
      "metadata": {
        "id": "view-in-github",
        "colab_type": "text"
      },
      "source": [
        "<a href=\"https://colab.research.google.com/github/Alejagc0217/bc_brechadigitalcolombia/blob/main/brechadigitalipynb.ipynb\" target=\"_parent\"><img src=\"https://colab.research.google.com/assets/colab-badge.svg\" alt=\"Open In Colab\"/></a>"
      ]
    },
    {
      "cell_type": "markdown",
      "source": [
        "#Presentación\n"
      ],
      "metadata": {
        "id": "2aiuFRgcuKwu"
      }
    },
    {
      "cell_type": "code",
      "source": [],
      "metadata": {
        "id": "ZuQRL2Z5voJY"
      },
      "execution_count": null,
      "outputs": []
    },
    {
      "cell_type": "markdown",
      "source": [
        "#Justificación\n"
      ],
      "metadata": {
        "id": "taMMFhmxuQnu"
      }
    },
    {
      "cell_type": "markdown",
      "source": [],
      "metadata": {
        "id": "fPFBbWBsxlb5"
      }
    },
    {
      "cell_type": "markdown",
      "source": [
        "#ingestión de Datos"
      ],
      "metadata": {
        "id": "yGPpitScuTg2"
      }
    },
    {
      "cell_type": "markdown",
      "source": [
        "#Preparación y Limpieza"
      ],
      "metadata": {
        "id": "bh93NbG-uZRe"
      }
    },
    {
      "cell_type": "markdown",
      "source": [
        "#Analítica Descriptiva"
      ],
      "metadata": {
        "id": "GZMSg4dzueY-"
      }
    },
    {
      "cell_type": "markdown",
      "source": [
        "#Análisis de Negocio\n"
      ],
      "metadata": {
        "id": "Jp1uffYaujtW"
      }
    },
    {
      "cell_type": "markdown",
      "source": [
        "1.Las habilidades digitales que porcentaje representa del total de la brecha digita?\n",
        "2.Que porcentaje de la poblacion colombiana es habita en la zona rural?\n",
        "3.Que habilidades digitales tiene la poblacion rural por rango de edad?\n",
        "4.Como es el desempeño de la poblacion rural en el resultado de las pruebas saber y/o icfes.\n",
        "5.Existe una relacion entre el resultado de las pruebas icfes y el acceso a las tecnologias de la informacion en la poblacion rural?\n",
        "6\n"
      ],
      "metadata": {
        "id": "PaVlvCclur4m"
      }
    },
    {
      "cell_type": "markdown",
      "source": [],
      "metadata": {
        "id": "S_ni-isovAAu"
      }
    }
  ]
}